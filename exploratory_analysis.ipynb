{
  "cells": [
    {
      "cell_type": "markdown",
      "metadata": {
        "colab_type": "text",
        "id": "view-in-github"
      },
      "source": [
        "<a href=\"https://colab.research.google.com/github/ianzin30/Data-Science-Project/blob/main/exploratory_analysis.ipynb\" target=\"_parent\"><img src=\"https://colab.research.google.com/assets/colab-badge.svg\" alt=\"Open In Colab\"/></a>"
      ]
    },
    {
      "cell_type": "markdown",
      "metadata": {
        "id": "epbTNtm-TYs9"
      },
      "source": [
        "# Análise de Saúde e Estilo de Vida\n",
        "\n",
        "Este notebook contém análises exploratórias de dados do dataset `Sleep_health_and_lifestyle_dataset.csv`, que inclui informações sobre saúde e estilo de vida, como duração do sono, qualidade do sono, nível de atividade física, e outros.\n",
        "\n",
        "## Importação de Bibliotecas\n",
        "\n",
        "Aqui, importamos as bibliotecas necessárias para nossa análise de dados.\n",
        "\n",
        "```python\n",
        "import pandas as pd\n",
        "import matplotlib.pyplot as plt\n",
        "import seaborn as sns\n",
        "\n"
      ]
    },
    {
      "cell_type": "markdown",
      "metadata": {
        "id": "q3afqr84VQYU"
      },
      "source": [
        "```python\n",
        "# Apenas baixando no colab a biblioteca"
      ]
    },
    {
      "cell_type": "code",
      "execution_count": 7,
      "metadata": {
        "colab": {
          "base_uri": "https://localhost:8080/"
        },
        "id": "qWyE34I5UWoG",
        "outputId": "5949c8e0-a1aa-48ff-b393-24e860ed221b"
      },
      "outputs": [
        {
          "name": "stdout",
          "output_type": "stream",
          "text": [
            "Collecting fancyimpute\n",
            "  Downloading fancyimpute-0.7.0.tar.gz (25 kB)\n",
            "  Preparing metadata (setup.py) ... \u001b[?25l\u001b[?25hdone\n",
            "Collecting knnimpute>=0.1.0 (from fancyimpute)\n",
            "  Downloading knnimpute-0.1.0.tar.gz (8.3 kB)\n",
            "  Preparing metadata (setup.py) ... \u001b[?25l\u001b[?25hdone\n",
            "Requirement already satisfied: scikit-learn>=0.24.2 in /usr/local/lib/python3.10/dist-packages (from fancyimpute) (1.2.2)\n",
            "Requirement already satisfied: cvxpy in /usr/local/lib/python3.10/dist-packages (from fancyimpute) (1.3.4)\n",
            "Requirement already satisfied: cvxopt in /usr/local/lib/python3.10/dist-packages (from fancyimpute) (1.3.2)\n",
            "Requirement already satisfied: pytest in /usr/local/lib/python3.10/dist-packages (from fancyimpute) (7.4.4)\n",
            "Collecting nose (from fancyimpute)\n",
            "  Downloading nose-1.3.7-py3-none-any.whl (154 kB)\n",
            "\u001b[2K     \u001b[90m━━━━━━━━━━━━━━━━━━━━━━━━━━━━━━━━━━━━━━━━\u001b[0m \u001b[32m154.7/154.7 kB\u001b[0m \u001b[31m8.2 MB/s\u001b[0m eta \u001b[36m0:00:00\u001b[0m\n",
            "\u001b[?25hRequirement already satisfied: six in /usr/local/lib/python3.10/dist-packages (from knnimpute>=0.1.0->fancyimpute) (1.16.0)\n",
            "Requirement already satisfied: numpy>=1.10 in /usr/local/lib/python3.10/dist-packages (from knnimpute>=0.1.0->fancyimpute) (1.25.2)\n",
            "Requirement already satisfied: scipy>=1.3.2 in /usr/local/lib/python3.10/dist-packages (from scikit-learn>=0.24.2->fancyimpute) (1.11.4)\n",
            "Requirement already satisfied: joblib>=1.1.1 in /usr/local/lib/python3.10/dist-packages (from scikit-learn>=0.24.2->fancyimpute) (1.4.2)\n",
            "Requirement already satisfied: threadpoolctl>=2.0.0 in /usr/local/lib/python3.10/dist-packages (from scikit-learn>=0.24.2->fancyimpute) (3.5.0)\n",
            "Requirement already satisfied: osqp>=0.4.1 in /usr/local/lib/python3.10/dist-packages (from cvxpy->fancyimpute) (0.6.2.post8)\n",
            "Requirement already satisfied: ecos>=2 in /usr/local/lib/python3.10/dist-packages (from cvxpy->fancyimpute) (2.0.13)\n",
            "Requirement already satisfied: scs>=1.1.6 in /usr/local/lib/python3.10/dist-packages (from cvxpy->fancyimpute) (3.2.4.post2)\n",
            "Requirement already satisfied: setuptools>65.5.1 in /usr/local/lib/python3.10/dist-packages (from cvxpy->fancyimpute) (67.7.2)\n",
            "Requirement already satisfied: iniconfig in /usr/local/lib/python3.10/dist-packages (from pytest->fancyimpute) (2.0.0)\n",
            "Requirement already satisfied: packaging in /usr/local/lib/python3.10/dist-packages (from pytest->fancyimpute) (24.0)\n",
            "Requirement already satisfied: pluggy<2.0,>=0.12 in /usr/local/lib/python3.10/dist-packages (from pytest->fancyimpute) (1.5.0)\n",
            "Requirement already satisfied: exceptiongroup>=1.0.0rc8 in /usr/local/lib/python3.10/dist-packages (from pytest->fancyimpute) (1.2.1)\n",
            "Requirement already satisfied: tomli>=1.0.0 in /usr/local/lib/python3.10/dist-packages (from pytest->fancyimpute) (2.0.1)\n",
            "Requirement already satisfied: qdldl in /usr/local/lib/python3.10/dist-packages (from osqp>=0.4.1->cvxpy->fancyimpute) (0.1.7.post2)\n",
            "Building wheels for collected packages: fancyimpute, knnimpute\n",
            "  Building wheel for fancyimpute (setup.py) ... \u001b[?25l\u001b[?25hdone\n",
            "  Created wheel for fancyimpute: filename=fancyimpute-0.7.0-py3-none-any.whl size=29881 sha256=fa3652a36d2a6e77bb1b5ce1667f36c28b99ace8020b834e88ce1406c05267b6\n",
            "  Stored in directory: /root/.cache/pip/wheels/7b/0c/d3/ee82d1fbdcc0858d96434af108608d01703505d453720c84ed\n",
            "  Building wheel for knnimpute (setup.py) ... \u001b[?25l\u001b[?25hdone\n",
            "  Created wheel for knnimpute: filename=knnimpute-0.1.0-py3-none-any.whl size=11330 sha256=cbb96432a0a620c86b2f539eb97c6a8ae7ea3a50f237be7ca7b0d3365f7b14c1\n",
            "  Stored in directory: /root/.cache/pip/wheels/46/06/a5/45a724630562413c374e29c08732411d496092408b3a7bf754\n",
            "Successfully built fancyimpute knnimpute\n",
            "Installing collected packages: nose, knnimpute, fancyimpute\n",
            "Successfully installed fancyimpute-0.7.0 knnimpute-0.1.0 nose-1.3.7\n"
          ]
        }
      ],
      "source": [
        "!pip install fancyimpute\n"
      ]
    },
    {
      "cell_type": "code",
      "execution_count": 8,
      "metadata": {
        "id": "4Vr6bjNTe7S3"
      },
      "outputs": [],
      "source": [
        "import pandas as pd\n",
        "import fancyimpute\n",
        "import matplotlib.pyplot as plt\n",
        "import seaborn as sns"
      ]
    },
    {
      "cell_type": "markdown",
      "metadata": {
        "id": "gNncWafKTYs_"
      },
      "source": [
        "### Leitura dos Dados\n",
        "Carregamos nosso dataset e exibimos as primeiras 10 linhas para ter uma visão inicial dos dados disponíveis."
      ]
    },
    {
      "cell_type": "code",
      "execution_count": 9,
      "metadata": {
        "colab": {
          "base_uri": "https://localhost:8080/",
          "height": 467
        },
        "id": "qSVXuQ1le7S4",
        "outputId": "950bc620-de08-4943-d360-6c688f36cb17"
      },
      "outputs": [
        {
          "data": {
            "application/vnd.google.colaboratory.intrinsic+json": {
              "summary": "{\n  \"name\": \"dataframe\",\n  \"rows\": 382,\n  \"fields\": [\n    {\n      \"column\": \"Person ID\",\n      \"properties\": {\n        \"dtype\": \"number\",\n        \"std\": 108,\n        \"min\": 1,\n        \"max\": 374,\n        \"num_unique_values\": 374,\n        \"samples\": [\n          330,\n          34,\n          16\n        ],\n        \"semantic_type\": \"\",\n        \"description\": \"\"\n      }\n    },\n    {\n      \"column\": \"Gender\",\n      \"properties\": {\n        \"dtype\": \"category\",\n        \"num_unique_values\": 2,\n        \"samples\": [\n          \"Female\",\n          \"Male\"\n        ],\n        \"semantic_type\": \"\",\n        \"description\": \"\"\n      }\n    },\n    {\n      \"column\": \"Age\",\n      \"properties\": {\n        \"dtype\": \"number\",\n        \"std\": 8,\n        \"min\": 27,\n        \"max\": 59,\n        \"num_unique_values\": 31,\n        \"samples\": [\n          56,\n          42\n        ],\n        \"semantic_type\": \"\",\n        \"description\": \"\"\n      }\n    },\n    {\n      \"column\": \"Occupation\",\n      \"properties\": {\n        \"dtype\": \"category\",\n        \"num_unique_values\": 11,\n        \"samples\": [\n          \"Engineer\",\n          \"Software Engineer\"\n        ],\n        \"semantic_type\": \"\",\n        \"description\": \"\"\n      }\n    },\n    {\n      \"column\": \"Sleep Duration\",\n      \"properties\": {\n        \"dtype\": \"number\",\n        \"std\": 0.7981130151969319,\n        \"min\": 5.8,\n        \"max\": 8.5,\n        \"num_unique_values\": 27,\n        \"samples\": [\n          7.7,\n          5.8\n        ],\n        \"semantic_type\": \"\",\n        \"description\": \"\"\n      }\n    },\n    {\n      \"column\": \"Quality of Sleep\",\n      \"properties\": {\n        \"dtype\": \"number\",\n        \"std\": 1,\n        \"min\": 4,\n        \"max\": 9,\n        \"num_unique_values\": 6,\n        \"samples\": [\n          6,\n          4\n        ],\n        \"semantic_type\": \"\",\n        \"description\": \"\"\n      }\n    },\n    {\n      \"column\": \"Physical Activity Level\",\n      \"properties\": {\n        \"dtype\": \"number\",\n        \"std\": 20.93473413467888,\n        \"min\": 30.0,\n        \"max\": 90.0,\n        \"num_unique_values\": 16,\n        \"samples\": [\n          42.0,\n          60.0\n        ],\n        \"semantic_type\": \"\",\n        \"description\": \"\"\n      }\n    },\n    {\n      \"column\": \"Stress Level\",\n      \"properties\": {\n        \"dtype\": \"number\",\n        \"std\": 1,\n        \"min\": 3,\n        \"max\": 8,\n        \"num_unique_values\": 6,\n        \"samples\": [\n          6,\n          8\n        ],\n        \"semantic_type\": \"\",\n        \"description\": \"\"\n      }\n    },\n    {\n      \"column\": \"BMI Category\",\n      \"properties\": {\n        \"dtype\": \"category\",\n        \"num_unique_values\": 4,\n        \"samples\": [\n          \"Normal\",\n          \"Normal Weight\"\n        ],\n        \"semantic_type\": \"\",\n        \"description\": \"\"\n      }\n    },\n    {\n      \"column\": \"Blood Pressure\",\n      \"properties\": {\n        \"dtype\": \"category\",\n        \"num_unique_values\": 25,\n        \"samples\": [\n          \"128/85\",\n          \"119/77\"\n        ],\n        \"semantic_type\": \"\",\n        \"description\": \"\"\n      }\n    },\n    {\n      \"column\": \"Heart Rate\",\n      \"properties\": {\n        \"dtype\": \"number\",\n        \"std\": 4,\n        \"min\": 65,\n        \"max\": 86,\n        \"num_unique_values\": 19,\n        \"samples\": [\n          77,\n          80\n        ],\n        \"semantic_type\": \"\",\n        \"description\": \"\"\n      }\n    },\n    {\n      \"column\": \"Daily Steps\",\n      \"properties\": {\n        \"dtype\": \"number\",\n        \"std\": 1624,\n        \"min\": 3000,\n        \"max\": 10000,\n        \"num_unique_values\": 20,\n        \"samples\": [\n          4200,\n          6200\n        ],\n        \"semantic_type\": \"\",\n        \"description\": \"\"\n      }\n    },\n    {\n      \"column\": \"Sleep Disorder\",\n      \"properties\": {\n        \"dtype\": \"category\",\n        \"num_unique_values\": 2,\n        \"samples\": [\n          \"Insomnia\",\n          \"Sleep Apnea\"\n        ],\n        \"semantic_type\": \"\",\n        \"description\": \"\"\n      }\n    }\n  ]\n}",
              "type": "dataframe",
              "variable_name": "dataframe"
            },
            "text/html": [
              "\n",
              "  <div id=\"df-fe699012-8509-4ecf-b509-d599cfeae39d\" class=\"colab-df-container\">\n",
              "    <div>\n",
              "<style scoped>\n",
              "    .dataframe tbody tr th:only-of-type {\n",
              "        vertical-align: middle;\n",
              "    }\n",
              "\n",
              "    .dataframe tbody tr th {\n",
              "        vertical-align: top;\n",
              "    }\n",
              "\n",
              "    .dataframe thead th {\n",
              "        text-align: right;\n",
              "    }\n",
              "</style>\n",
              "<table border=\"1\" class=\"dataframe\">\n",
              "  <thead>\n",
              "    <tr style=\"text-align: right;\">\n",
              "      <th></th>\n",
              "      <th>Person ID</th>\n",
              "      <th>Gender</th>\n",
              "      <th>Age</th>\n",
              "      <th>Occupation</th>\n",
              "      <th>Sleep Duration</th>\n",
              "      <th>Quality of Sleep</th>\n",
              "      <th>Physical Activity Level</th>\n",
              "      <th>Stress Level</th>\n",
              "      <th>BMI Category</th>\n",
              "      <th>Blood Pressure</th>\n",
              "      <th>Heart Rate</th>\n",
              "      <th>Daily Steps</th>\n",
              "      <th>Sleep Disorder</th>\n",
              "    </tr>\n",
              "  </thead>\n",
              "  <tbody>\n",
              "    <tr>\n",
              "      <th>0</th>\n",
              "      <td>1</td>\n",
              "      <td>Male</td>\n",
              "      <td>27</td>\n",
              "      <td>Software Engineer</td>\n",
              "      <td>6.1</td>\n",
              "      <td>6</td>\n",
              "      <td>42.0</td>\n",
              "      <td>6</td>\n",
              "      <td>Overweight</td>\n",
              "      <td>126/83</td>\n",
              "      <td>77</td>\n",
              "      <td>4200</td>\n",
              "      <td>NaN</td>\n",
              "    </tr>\n",
              "    <tr>\n",
              "      <th>1</th>\n",
              "      <td>2</td>\n",
              "      <td>Male</td>\n",
              "      <td>28</td>\n",
              "      <td>Doctor</td>\n",
              "      <td>6.2</td>\n",
              "      <td>6</td>\n",
              "      <td>60.0</td>\n",
              "      <td>8</td>\n",
              "      <td>Normal</td>\n",
              "      <td>125/80</td>\n",
              "      <td>75</td>\n",
              "      <td>10000</td>\n",
              "      <td>NaN</td>\n",
              "    </tr>\n",
              "    <tr>\n",
              "      <th>2</th>\n",
              "      <td>3</td>\n",
              "      <td>Male</td>\n",
              "      <td>28</td>\n",
              "      <td>Doctor</td>\n",
              "      <td>NaN</td>\n",
              "      <td>6</td>\n",
              "      <td>60.0</td>\n",
              "      <td>8</td>\n",
              "      <td>Normal</td>\n",
              "      <td>125/80</td>\n",
              "      <td>75</td>\n",
              "      <td>10000</td>\n",
              "      <td>NaN</td>\n",
              "    </tr>\n",
              "    <tr>\n",
              "      <th>3</th>\n",
              "      <td>4</td>\n",
              "      <td>Male</td>\n",
              "      <td>28</td>\n",
              "      <td>Sales Representative</td>\n",
              "      <td>5.9</td>\n",
              "      <td>4</td>\n",
              "      <td>30.0</td>\n",
              "      <td>8</td>\n",
              "      <td>Obese</td>\n",
              "      <td>140/90</td>\n",
              "      <td>85</td>\n",
              "      <td>3000</td>\n",
              "      <td>Sleep Apnea</td>\n",
              "    </tr>\n",
              "    <tr>\n",
              "      <th>4</th>\n",
              "      <td>5</td>\n",
              "      <td>Male</td>\n",
              "      <td>28</td>\n",
              "      <td>Sales Representative</td>\n",
              "      <td>5.9</td>\n",
              "      <td>4</td>\n",
              "      <td>30.0</td>\n",
              "      <td>8</td>\n",
              "      <td>Obese</td>\n",
              "      <td>140/90</td>\n",
              "      <td>85</td>\n",
              "      <td>3000</td>\n",
              "      <td>Sleep Apnea</td>\n",
              "    </tr>\n",
              "    <tr>\n",
              "      <th>5</th>\n",
              "      <td>6</td>\n",
              "      <td>Male</td>\n",
              "      <td>28</td>\n",
              "      <td>Software Engineer</td>\n",
              "      <td>5.9</td>\n",
              "      <td>4</td>\n",
              "      <td>30.0</td>\n",
              "      <td>8</td>\n",
              "      <td>Obese</td>\n",
              "      <td>140/90</td>\n",
              "      <td>85</td>\n",
              "      <td>3000</td>\n",
              "      <td>Insomnia</td>\n",
              "    </tr>\n",
              "    <tr>\n",
              "      <th>6</th>\n",
              "      <td>7</td>\n",
              "      <td>Male</td>\n",
              "      <td>29</td>\n",
              "      <td>Teacher</td>\n",
              "      <td>6.3</td>\n",
              "      <td>6</td>\n",
              "      <td>40.0</td>\n",
              "      <td>7</td>\n",
              "      <td>Obese</td>\n",
              "      <td>140/90</td>\n",
              "      <td>82</td>\n",
              "      <td>3500</td>\n",
              "      <td>Insomnia</td>\n",
              "    </tr>\n",
              "    <tr>\n",
              "      <th>7</th>\n",
              "      <td>8</td>\n",
              "      <td>Male</td>\n",
              "      <td>29</td>\n",
              "      <td>Doctor</td>\n",
              "      <td>7.8</td>\n",
              "      <td>7</td>\n",
              "      <td>75.0</td>\n",
              "      <td>6</td>\n",
              "      <td>Normal</td>\n",
              "      <td>120/80</td>\n",
              "      <td>70</td>\n",
              "      <td>8000</td>\n",
              "      <td>NaN</td>\n",
              "    </tr>\n",
              "    <tr>\n",
              "      <th>8</th>\n",
              "      <td>9</td>\n",
              "      <td>Male</td>\n",
              "      <td>29</td>\n",
              "      <td>Doctor</td>\n",
              "      <td>7.8</td>\n",
              "      <td>7</td>\n",
              "      <td>75.0</td>\n",
              "      <td>6</td>\n",
              "      <td>Normal</td>\n",
              "      <td>120/80</td>\n",
              "      <td>70</td>\n",
              "      <td>8000</td>\n",
              "      <td>NaN</td>\n",
              "    </tr>\n",
              "    <tr>\n",
              "      <th>9</th>\n",
              "      <td>10</td>\n",
              "      <td>Male</td>\n",
              "      <td>29</td>\n",
              "      <td>Doctor</td>\n",
              "      <td>7.8</td>\n",
              "      <td>7</td>\n",
              "      <td>75.0</td>\n",
              "      <td>6</td>\n",
              "      <td>Normal</td>\n",
              "      <td>120/80</td>\n",
              "      <td>70</td>\n",
              "      <td>8000</td>\n",
              "      <td>NaN</td>\n",
              "    </tr>\n",
              "  </tbody>\n",
              "</table>\n",
              "</div>\n",
              "    <div class=\"colab-df-buttons\">\n",
              "\n",
              "  <div class=\"colab-df-container\">\n",
              "    <button class=\"colab-df-convert\" onclick=\"convertToInteractive('df-fe699012-8509-4ecf-b509-d599cfeae39d')\"\n",
              "            title=\"Convert this dataframe to an interactive table.\"\n",
              "            style=\"display:none;\">\n",
              "\n",
              "  <svg xmlns=\"http://www.w3.org/2000/svg\" height=\"24px\" viewBox=\"0 -960 960 960\">\n",
              "    <path d=\"M120-120v-720h720v720H120Zm60-500h600v-160H180v160Zm220 220h160v-160H400v160Zm0 220h160v-160H400v160ZM180-400h160v-160H180v160Zm440 0h160v-160H620v160ZM180-180h160v-160H180v160Zm440 0h160v-160H620v160Z\"/>\n",
              "  </svg>\n",
              "    </button>\n",
              "\n",
              "  <style>\n",
              "    .colab-df-container {\n",
              "      display:flex;\n",
              "      gap: 12px;\n",
              "    }\n",
              "\n",
              "    .colab-df-convert {\n",
              "      background-color: #E8F0FE;\n",
              "      border: none;\n",
              "      border-radius: 50%;\n",
              "      cursor: pointer;\n",
              "      display: none;\n",
              "      fill: #1967D2;\n",
              "      height: 32px;\n",
              "      padding: 0 0 0 0;\n",
              "      width: 32px;\n",
              "    }\n",
              "\n",
              "    .colab-df-convert:hover {\n",
              "      background-color: #E2EBFA;\n",
              "      box-shadow: 0px 1px 2px rgba(60, 64, 67, 0.3), 0px 1px 3px 1px rgba(60, 64, 67, 0.15);\n",
              "      fill: #174EA6;\n",
              "    }\n",
              "\n",
              "    .colab-df-buttons div {\n",
              "      margin-bottom: 4px;\n",
              "    }\n",
              "\n",
              "    [theme=dark] .colab-df-convert {\n",
              "      background-color: #3B4455;\n",
              "      fill: #D2E3FC;\n",
              "    }\n",
              "\n",
              "    [theme=dark] .colab-df-convert:hover {\n",
              "      background-color: #434B5C;\n",
              "      box-shadow: 0px 1px 3px 1px rgba(0, 0, 0, 0.15);\n",
              "      filter: drop-shadow(0px 1px 2px rgba(0, 0, 0, 0.3));\n",
              "      fill: #FFFFFF;\n",
              "    }\n",
              "  </style>\n",
              "\n",
              "    <script>\n",
              "      const buttonEl =\n",
              "        document.querySelector('#df-fe699012-8509-4ecf-b509-d599cfeae39d button.colab-df-convert');\n",
              "      buttonEl.style.display =\n",
              "        google.colab.kernel.accessAllowed ? 'block' : 'none';\n",
              "\n",
              "      async function convertToInteractive(key) {\n",
              "        const element = document.querySelector('#df-fe699012-8509-4ecf-b509-d599cfeae39d');\n",
              "        const dataTable =\n",
              "          await google.colab.kernel.invokeFunction('convertToInteractive',\n",
              "                                                    [key], {});\n",
              "        if (!dataTable) return;\n",
              "\n",
              "        const docLinkHtml = 'Like what you see? Visit the ' +\n",
              "          '<a target=\"_blank\" href=https://colab.research.google.com/notebooks/data_table.ipynb>data table notebook</a>'\n",
              "          + ' to learn more about interactive tables.';\n",
              "        element.innerHTML = '';\n",
              "        dataTable['output_type'] = 'display_data';\n",
              "        await google.colab.output.renderOutput(dataTable, element);\n",
              "        const docLink = document.createElement('div');\n",
              "        docLink.innerHTML = docLinkHtml;\n",
              "        element.appendChild(docLink);\n",
              "      }\n",
              "    </script>\n",
              "  </div>\n",
              "\n",
              "\n",
              "<div id=\"df-90bafe99-6d26-4004-a79a-e59b9cc93434\">\n",
              "  <button class=\"colab-df-quickchart\" onclick=\"quickchart('df-90bafe99-6d26-4004-a79a-e59b9cc93434')\"\n",
              "            title=\"Suggest charts\"\n",
              "            style=\"display:none;\">\n",
              "\n",
              "<svg xmlns=\"http://www.w3.org/2000/svg\" height=\"24px\"viewBox=\"0 0 24 24\"\n",
              "     width=\"24px\">\n",
              "    <g>\n",
              "        <path d=\"M19 3H5c-1.1 0-2 .9-2 2v14c0 1.1.9 2 2 2h14c1.1 0 2-.9 2-2V5c0-1.1-.9-2-2-2zM9 17H7v-7h2v7zm4 0h-2V7h2v10zm4 0h-2v-4h2v4z\"/>\n",
              "    </g>\n",
              "</svg>\n",
              "  </button>\n",
              "\n",
              "<style>\n",
              "  .colab-df-quickchart {\n",
              "      --bg-color: #E8F0FE;\n",
              "      --fill-color: #1967D2;\n",
              "      --hover-bg-color: #E2EBFA;\n",
              "      --hover-fill-color: #174EA6;\n",
              "      --disabled-fill-color: #AAA;\n",
              "      --disabled-bg-color: #DDD;\n",
              "  }\n",
              "\n",
              "  [theme=dark] .colab-df-quickchart {\n",
              "      --bg-color: #3B4455;\n",
              "      --fill-color: #D2E3FC;\n",
              "      --hover-bg-color: #434B5C;\n",
              "      --hover-fill-color: #FFFFFF;\n",
              "      --disabled-bg-color: #3B4455;\n",
              "      --disabled-fill-color: #666;\n",
              "  }\n",
              "\n",
              "  .colab-df-quickchart {\n",
              "    background-color: var(--bg-color);\n",
              "    border: none;\n",
              "    border-radius: 50%;\n",
              "    cursor: pointer;\n",
              "    display: none;\n",
              "    fill: var(--fill-color);\n",
              "    height: 32px;\n",
              "    padding: 0;\n",
              "    width: 32px;\n",
              "  }\n",
              "\n",
              "  .colab-df-quickchart:hover {\n",
              "    background-color: var(--hover-bg-color);\n",
              "    box-shadow: 0 1px 2px rgba(60, 64, 67, 0.3), 0 1px 3px 1px rgba(60, 64, 67, 0.15);\n",
              "    fill: var(--button-hover-fill-color);\n",
              "  }\n",
              "\n",
              "  .colab-df-quickchart-complete:disabled,\n",
              "  .colab-df-quickchart-complete:disabled:hover {\n",
              "    background-color: var(--disabled-bg-color);\n",
              "    fill: var(--disabled-fill-color);\n",
              "    box-shadow: none;\n",
              "  }\n",
              "\n",
              "  .colab-df-spinner {\n",
              "    border: 2px solid var(--fill-color);\n",
              "    border-color: transparent;\n",
              "    border-bottom-color: var(--fill-color);\n",
              "    animation:\n",
              "      spin 1s steps(1) infinite;\n",
              "  }\n",
              "\n",
              "  @keyframes spin {\n",
              "    0% {\n",
              "      border-color: transparent;\n",
              "      border-bottom-color: var(--fill-color);\n",
              "      border-left-color: var(--fill-color);\n",
              "    }\n",
              "    20% {\n",
              "      border-color: transparent;\n",
              "      border-left-color: var(--fill-color);\n",
              "      border-top-color: var(--fill-color);\n",
              "    }\n",
              "    30% {\n",
              "      border-color: transparent;\n",
              "      border-left-color: var(--fill-color);\n",
              "      border-top-color: var(--fill-color);\n",
              "      border-right-color: var(--fill-color);\n",
              "    }\n",
              "    40% {\n",
              "      border-color: transparent;\n",
              "      border-right-color: var(--fill-color);\n",
              "      border-top-color: var(--fill-color);\n",
              "    }\n",
              "    60% {\n",
              "      border-color: transparent;\n",
              "      border-right-color: var(--fill-color);\n",
              "    }\n",
              "    80% {\n",
              "      border-color: transparent;\n",
              "      border-right-color: var(--fill-color);\n",
              "      border-bottom-color: var(--fill-color);\n",
              "    }\n",
              "    90% {\n",
              "      border-color: transparent;\n",
              "      border-bottom-color: var(--fill-color);\n",
              "    }\n",
              "  }\n",
              "</style>\n",
              "\n",
              "  <script>\n",
              "    async function quickchart(key) {\n",
              "      const quickchartButtonEl =\n",
              "        document.querySelector('#' + key + ' button');\n",
              "      quickchartButtonEl.disabled = true;  // To prevent multiple clicks.\n",
              "      quickchartButtonEl.classList.add('colab-df-spinner');\n",
              "      try {\n",
              "        const charts = await google.colab.kernel.invokeFunction(\n",
              "            'suggestCharts', [key], {});\n",
              "      } catch (error) {\n",
              "        console.error('Error during call to suggestCharts:', error);\n",
              "      }\n",
              "      quickchartButtonEl.classList.remove('colab-df-spinner');\n",
              "      quickchartButtonEl.classList.add('colab-df-quickchart-complete');\n",
              "    }\n",
              "    (() => {\n",
              "      let quickchartButtonEl =\n",
              "        document.querySelector('#df-90bafe99-6d26-4004-a79a-e59b9cc93434 button');\n",
              "      quickchartButtonEl.style.display =\n",
              "        google.colab.kernel.accessAllowed ? 'block' : 'none';\n",
              "    })();\n",
              "  </script>\n",
              "</div>\n",
              "\n",
              "    </div>\n",
              "  </div>\n"
            ],
            "text/plain": [
              "   Person ID Gender  Age            Occupation  Sleep Duration  \\\n",
              "0          1   Male   27     Software Engineer             6.1   \n",
              "1          2   Male   28                Doctor             6.2   \n",
              "2          3   Male   28                Doctor             NaN   \n",
              "3          4   Male   28  Sales Representative             5.9   \n",
              "4          5   Male   28  Sales Representative             5.9   \n",
              "5          6   Male   28     Software Engineer             5.9   \n",
              "6          7   Male   29               Teacher             6.3   \n",
              "7          8   Male   29                Doctor             7.8   \n",
              "8          9   Male   29                Doctor             7.8   \n",
              "9         10   Male   29                Doctor             7.8   \n",
              "\n",
              "   Quality of Sleep  Physical Activity Level  Stress Level BMI Category  \\\n",
              "0                 6                     42.0             6   Overweight   \n",
              "1                 6                     60.0             8       Normal   \n",
              "2                 6                     60.0             8       Normal   \n",
              "3                 4                     30.0             8        Obese   \n",
              "4                 4                     30.0             8        Obese   \n",
              "5                 4                     30.0             8        Obese   \n",
              "6                 6                     40.0             7        Obese   \n",
              "7                 7                     75.0             6       Normal   \n",
              "8                 7                     75.0             6       Normal   \n",
              "9                 7                     75.0             6       Normal   \n",
              "\n",
              "  Blood Pressure  Heart Rate  Daily Steps Sleep Disorder  \n",
              "0         126/83          77         4200            NaN  \n",
              "1         125/80          75        10000            NaN  \n",
              "2         125/80          75        10000            NaN  \n",
              "3         140/90          85         3000    Sleep Apnea  \n",
              "4         140/90          85         3000    Sleep Apnea  \n",
              "5         140/90          85         3000       Insomnia  \n",
              "6         140/90          82         3500       Insomnia  \n",
              "7         120/80          70         8000            NaN  \n",
              "8         120/80          70         8000            NaN  \n",
              "9         120/80          70         8000            NaN  "
            ]
          },
          "execution_count": 9,
          "metadata": {},
          "output_type": "execute_result"
        }
      ],
      "source": [
        "# Lendo o arquivo csv e mostrando as 10 primeiras linhas do dataset\n",
        "\n",
        "dataframe = pd.read_csv('Sleep_health_and_lifestyle_dataset.csv')\n",
        "dataframe.head(10)"
      ]
    },
    {
      "cell_type": "code",
      "execution_count": 10,
      "metadata": {
        "colab": {
          "base_uri": "https://localhost:8080/"
        },
        "id": "wAPHjH5Fe7S4",
        "outputId": "1130b5fe-7b2a-4ccc-fc46-589daa1483f5"
      },
      "outputs": [
        {
          "name": "stdout",
          "output_type": "stream",
          "text": [
            "Número total de entradas no dataset: 382\n"
          ]
        }
      ],
      "source": [
        "# Contando o número de entradas no dataset\n",
        "print(\"Número total de entradas no dataset:\", len(dataframe))\n",
        "\n"
      ]
    },
    {
      "cell_type": "code",
      "execution_count": 11,
      "metadata": {
        "colab": {
          "base_uri": "https://localhost:8080/",
          "height": 300
        },
        "id": "EATU6OCOe7S5",
        "outputId": "98e74c68-cf1f-4b59-a9dc-d6d209f7ab60"
      },
      "outputs": [
        {
          "data": {
            "application/vnd.google.colaboratory.intrinsic+json": {
              "summary": "{\n  \"name\": \"dataframe\",\n  \"rows\": 8,\n  \"fields\": [\n    {\n      \"column\": \"Person ID\",\n      \"properties\": {\n        \"dtype\": \"number\",\n        \"std\": 135.94630634015417,\n        \"min\": 1.0,\n        \"max\": 382.0,\n        \"num_unique_values\": 8,\n        \"samples\": [\n          189.10994764397907,\n          189.5,\n          382.0\n        ],\n        \"semantic_type\": \"\",\n        \"description\": \"\"\n      }\n    },\n    {\n      \"column\": \"Age\",\n      \"properties\": {\n        \"dtype\": \"number\",\n        \"std\": 122.56640906671689,\n        \"min\": 8.680733133177904,\n        \"max\": 382.0,\n        \"num_unique_values\": 8,\n        \"samples\": [\n          42.31413612565445,\n          43.0,\n          382.0\n        ],\n        \"semantic_type\": \"\",\n        \"description\": \"\"\n      }\n    },\n    {\n      \"column\": \"Sleep Duration\",\n      \"properties\": {\n        \"dtype\": \"number\",\n        \"std\": 130.40004497108112,\n        \"min\": 0.7981130151969319,\n        \"max\": 375.0,\n        \"num_unique_values\": 8,\n        \"samples\": [\n          7.136800000000001,\n          7.2,\n          375.0\n        ],\n        \"semantic_type\": \"\",\n        \"description\": \"\"\n      }\n    },\n    {\n      \"column\": \"Quality of Sleep\",\n      \"properties\": {\n        \"dtype\": \"number\",\n        \"std\": 132.93278704091023,\n        \"min\": 1.200433702481826,\n        \"max\": 382.0,\n        \"num_unique_values\": 8,\n        \"samples\": [\n          7.319371727748691,\n          7.0,\n          382.0\n        ],\n        \"semantic_type\": \"\",\n        \"description\": \"\"\n      }\n    },\n    {\n      \"column\": \"Physical Activity Level\",\n      \"properties\": {\n        \"dtype\": \"number\",\n        \"std\": 116.2897226641453,\n        \"min\": 20.93473413467888,\n        \"max\": 377.0,\n        \"num_unique_values\": 8,\n        \"samples\": [\n          59.23076923076923,\n          60.0,\n          377.0\n        ],\n        \"semantic_type\": \"\",\n        \"description\": \"\"\n      }\n    },\n    {\n      \"column\": \"Stress Level\",\n      \"properties\": {\n        \"dtype\": \"number\",\n        \"std\": 133.3471845243499,\n        \"min\": 1.7820633982379392,\n        \"max\": 382.0,\n        \"num_unique_values\": 8,\n        \"samples\": [\n          5.37958115183246,\n          5.0,\n          382.0\n        ],\n        \"semantic_type\": \"\",\n        \"description\": \"\"\n      }\n    },\n    {\n      \"column\": \"Heart Rate\",\n      \"properties\": {\n        \"dtype\": \"number\",\n        \"std\": 115.69521687525264,\n        \"min\": 4.128060279343796,\n        \"max\": 382.0,\n        \"num_unique_values\": 8,\n        \"samples\": [\n          70.15706806282722,\n          70.0,\n          382.0\n        ],\n        \"semantic_type\": \"\",\n        \"description\": \"\"\n      }\n    },\n    {\n      \"column\": \"Daily Steps\",\n      \"properties\": {\n        \"dtype\": \"number\",\n        \"std\": 3331.128968750007,\n        \"min\": 382.0,\n        \"max\": 10000.0,\n        \"num_unique_values\": 8,\n        \"samples\": [\n          6825.9162303664925,\n          7000.0,\n          382.0\n        ],\n        \"semantic_type\": \"\",\n        \"description\": \"\"\n      }\n    }\n  ]\n}",
              "type": "dataframe"
            },
            "text/html": [
              "\n",
              "  <div id=\"df-50e5ef9e-6122-4d8f-b73c-09348696d520\" class=\"colab-df-container\">\n",
              "    <div>\n",
              "<style scoped>\n",
              "    .dataframe tbody tr th:only-of-type {\n",
              "        vertical-align: middle;\n",
              "    }\n",
              "\n",
              "    .dataframe tbody tr th {\n",
              "        vertical-align: top;\n",
              "    }\n",
              "\n",
              "    .dataframe thead th {\n",
              "        text-align: right;\n",
              "    }\n",
              "</style>\n",
              "<table border=\"1\" class=\"dataframe\">\n",
              "  <thead>\n",
              "    <tr style=\"text-align: right;\">\n",
              "      <th></th>\n",
              "      <th>Person ID</th>\n",
              "      <th>Age</th>\n",
              "      <th>Sleep Duration</th>\n",
              "      <th>Quality of Sleep</th>\n",
              "      <th>Physical Activity Level</th>\n",
              "      <th>Stress Level</th>\n",
              "      <th>Heart Rate</th>\n",
              "      <th>Daily Steps</th>\n",
              "    </tr>\n",
              "  </thead>\n",
              "  <tbody>\n",
              "    <tr>\n",
              "      <th>count</th>\n",
              "      <td>382.000000</td>\n",
              "      <td>382.000000</td>\n",
              "      <td>375.000000</td>\n",
              "      <td>382.000000</td>\n",
              "      <td>377.000000</td>\n",
              "      <td>382.000000</td>\n",
              "      <td>382.000000</td>\n",
              "      <td>382.000000</td>\n",
              "    </tr>\n",
              "    <tr>\n",
              "      <th>mean</th>\n",
              "      <td>189.109948</td>\n",
              "      <td>42.314136</td>\n",
              "      <td>7.136800</td>\n",
              "      <td>7.319372</td>\n",
              "      <td>59.230769</td>\n",
              "      <td>5.379581</td>\n",
              "      <td>70.157068</td>\n",
              "      <td>6825.916230</td>\n",
              "    </tr>\n",
              "    <tr>\n",
              "      <th>std</th>\n",
              "      <td>108.171287</td>\n",
              "      <td>8.680733</td>\n",
              "      <td>0.798113</td>\n",
              "      <td>1.200434</td>\n",
              "      <td>20.934734</td>\n",
              "      <td>1.782063</td>\n",
              "      <td>4.128060</td>\n",
              "      <td>1624.414637</td>\n",
              "    </tr>\n",
              "    <tr>\n",
              "      <th>min</th>\n",
              "      <td>1.000000</td>\n",
              "      <td>27.000000</td>\n",
              "      <td>5.800000</td>\n",
              "      <td>4.000000</td>\n",
              "      <td>30.000000</td>\n",
              "      <td>3.000000</td>\n",
              "      <td>65.000000</td>\n",
              "      <td>3000.000000</td>\n",
              "    </tr>\n",
              "    <tr>\n",
              "      <th>25%</th>\n",
              "      <td>96.250000</td>\n",
              "      <td>36.000000</td>\n",
              "      <td>6.400000</td>\n",
              "      <td>6.000000</td>\n",
              "      <td>45.000000</td>\n",
              "      <td>4.000000</td>\n",
              "      <td>68.000000</td>\n",
              "      <td>5600.000000</td>\n",
              "    </tr>\n",
              "    <tr>\n",
              "      <th>50%</th>\n",
              "      <td>189.500000</td>\n",
              "      <td>43.000000</td>\n",
              "      <td>7.200000</td>\n",
              "      <td>7.000000</td>\n",
              "      <td>60.000000</td>\n",
              "      <td>5.000000</td>\n",
              "      <td>70.000000</td>\n",
              "      <td>7000.000000</td>\n",
              "    </tr>\n",
              "    <tr>\n",
              "      <th>75%</th>\n",
              "      <td>283.750000</td>\n",
              "      <td>50.000000</td>\n",
              "      <td>7.800000</td>\n",
              "      <td>8.000000</td>\n",
              "      <td>75.000000</td>\n",
              "      <td>7.000000</td>\n",
              "      <td>72.000000</td>\n",
              "      <td>8000.000000</td>\n",
              "    </tr>\n",
              "    <tr>\n",
              "      <th>max</th>\n",
              "      <td>374.000000</td>\n",
              "      <td>59.000000</td>\n",
              "      <td>8.500000</td>\n",
              "      <td>9.000000</td>\n",
              "      <td>90.000000</td>\n",
              "      <td>8.000000</td>\n",
              "      <td>86.000000</td>\n",
              "      <td>10000.000000</td>\n",
              "    </tr>\n",
              "  </tbody>\n",
              "</table>\n",
              "</div>\n",
              "    <div class=\"colab-df-buttons\">\n",
              "\n",
              "  <div class=\"colab-df-container\">\n",
              "    <button class=\"colab-df-convert\" onclick=\"convertToInteractive('df-50e5ef9e-6122-4d8f-b73c-09348696d520')\"\n",
              "            title=\"Convert this dataframe to an interactive table.\"\n",
              "            style=\"display:none;\">\n",
              "\n",
              "  <svg xmlns=\"http://www.w3.org/2000/svg\" height=\"24px\" viewBox=\"0 -960 960 960\">\n",
              "    <path d=\"M120-120v-720h720v720H120Zm60-500h600v-160H180v160Zm220 220h160v-160H400v160Zm0 220h160v-160H400v160ZM180-400h160v-160H180v160Zm440 0h160v-160H620v160ZM180-180h160v-160H180v160Zm440 0h160v-160H620v160Z\"/>\n",
              "  </svg>\n",
              "    </button>\n",
              "\n",
              "  <style>\n",
              "    .colab-df-container {\n",
              "      display:flex;\n",
              "      gap: 12px;\n",
              "    }\n",
              "\n",
              "    .colab-df-convert {\n",
              "      background-color: #E8F0FE;\n",
              "      border: none;\n",
              "      border-radius: 50%;\n",
              "      cursor: pointer;\n",
              "      display: none;\n",
              "      fill: #1967D2;\n",
              "      height: 32px;\n",
              "      padding: 0 0 0 0;\n",
              "      width: 32px;\n",
              "    }\n",
              "\n",
              "    .colab-df-convert:hover {\n",
              "      background-color: #E2EBFA;\n",
              "      box-shadow: 0px 1px 2px rgba(60, 64, 67, 0.3), 0px 1px 3px 1px rgba(60, 64, 67, 0.15);\n",
              "      fill: #174EA6;\n",
              "    }\n",
              "\n",
              "    .colab-df-buttons div {\n",
              "      margin-bottom: 4px;\n",
              "    }\n",
              "\n",
              "    [theme=dark] .colab-df-convert {\n",
              "      background-color: #3B4455;\n",
              "      fill: #D2E3FC;\n",
              "    }\n",
              "\n",
              "    [theme=dark] .colab-df-convert:hover {\n",
              "      background-color: #434B5C;\n",
              "      box-shadow: 0px 1px 3px 1px rgba(0, 0, 0, 0.15);\n",
              "      filter: drop-shadow(0px 1px 2px rgba(0, 0, 0, 0.3));\n",
              "      fill: #FFFFFF;\n",
              "    }\n",
              "  </style>\n",
              "\n",
              "    <script>\n",
              "      const buttonEl =\n",
              "        document.querySelector('#df-50e5ef9e-6122-4d8f-b73c-09348696d520 button.colab-df-convert');\n",
              "      buttonEl.style.display =\n",
              "        google.colab.kernel.accessAllowed ? 'block' : 'none';\n",
              "\n",
              "      async function convertToInteractive(key) {\n",
              "        const element = document.querySelector('#df-50e5ef9e-6122-4d8f-b73c-09348696d520');\n",
              "        const dataTable =\n",
              "          await google.colab.kernel.invokeFunction('convertToInteractive',\n",
              "                                                    [key], {});\n",
              "        if (!dataTable) return;\n",
              "\n",
              "        const docLinkHtml = 'Like what you see? Visit the ' +\n",
              "          '<a target=\"_blank\" href=https://colab.research.google.com/notebooks/data_table.ipynb>data table notebook</a>'\n",
              "          + ' to learn more about interactive tables.';\n",
              "        element.innerHTML = '';\n",
              "        dataTable['output_type'] = 'display_data';\n",
              "        await google.colab.output.renderOutput(dataTable, element);\n",
              "        const docLink = document.createElement('div');\n",
              "        docLink.innerHTML = docLinkHtml;\n",
              "        element.appendChild(docLink);\n",
              "      }\n",
              "    </script>\n",
              "  </div>\n",
              "\n",
              "\n",
              "<div id=\"df-cb9c37f6-c1b5-4b5e-a3f7-a7242c9afe40\">\n",
              "  <button class=\"colab-df-quickchart\" onclick=\"quickchart('df-cb9c37f6-c1b5-4b5e-a3f7-a7242c9afe40')\"\n",
              "            title=\"Suggest charts\"\n",
              "            style=\"display:none;\">\n",
              "\n",
              "<svg xmlns=\"http://www.w3.org/2000/svg\" height=\"24px\"viewBox=\"0 0 24 24\"\n",
              "     width=\"24px\">\n",
              "    <g>\n",
              "        <path d=\"M19 3H5c-1.1 0-2 .9-2 2v14c0 1.1.9 2 2 2h14c1.1 0 2-.9 2-2V5c0-1.1-.9-2-2-2zM9 17H7v-7h2v7zm4 0h-2V7h2v10zm4 0h-2v-4h2v4z\"/>\n",
              "    </g>\n",
              "</svg>\n",
              "  </button>\n",
              "\n",
              "<style>\n",
              "  .colab-df-quickchart {\n",
              "      --bg-color: #E8F0FE;\n",
              "      --fill-color: #1967D2;\n",
              "      --hover-bg-color: #E2EBFA;\n",
              "      --hover-fill-color: #174EA6;\n",
              "      --disabled-fill-color: #AAA;\n",
              "      --disabled-bg-color: #DDD;\n",
              "  }\n",
              "\n",
              "  [theme=dark] .colab-df-quickchart {\n",
              "      --bg-color: #3B4455;\n",
              "      --fill-color: #D2E3FC;\n",
              "      --hover-bg-color: #434B5C;\n",
              "      --hover-fill-color: #FFFFFF;\n",
              "      --disabled-bg-color: #3B4455;\n",
              "      --disabled-fill-color: #666;\n",
              "  }\n",
              "\n",
              "  .colab-df-quickchart {\n",
              "    background-color: var(--bg-color);\n",
              "    border: none;\n",
              "    border-radius: 50%;\n",
              "    cursor: pointer;\n",
              "    display: none;\n",
              "    fill: var(--fill-color);\n",
              "    height: 32px;\n",
              "    padding: 0;\n",
              "    width: 32px;\n",
              "  }\n",
              "\n",
              "  .colab-df-quickchart:hover {\n",
              "    background-color: var(--hover-bg-color);\n",
              "    box-shadow: 0 1px 2px rgba(60, 64, 67, 0.3), 0 1px 3px 1px rgba(60, 64, 67, 0.15);\n",
              "    fill: var(--button-hover-fill-color);\n",
              "  }\n",
              "\n",
              "  .colab-df-quickchart-complete:disabled,\n",
              "  .colab-df-quickchart-complete:disabled:hover {\n",
              "    background-color: var(--disabled-bg-color);\n",
              "    fill: var(--disabled-fill-color);\n",
              "    box-shadow: none;\n",
              "  }\n",
              "\n",
              "  .colab-df-spinner {\n",
              "    border: 2px solid var(--fill-color);\n",
              "    border-color: transparent;\n",
              "    border-bottom-color: var(--fill-color);\n",
              "    animation:\n",
              "      spin 1s steps(1) infinite;\n",
              "  }\n",
              "\n",
              "  @keyframes spin {\n",
              "    0% {\n",
              "      border-color: transparent;\n",
              "      border-bottom-color: var(--fill-color);\n",
              "      border-left-color: var(--fill-color);\n",
              "    }\n",
              "    20% {\n",
              "      border-color: transparent;\n",
              "      border-left-color: var(--fill-color);\n",
              "      border-top-color: var(--fill-color);\n",
              "    }\n",
              "    30% {\n",
              "      border-color: transparent;\n",
              "      border-left-color: var(--fill-color);\n",
              "      border-top-color: var(--fill-color);\n",
              "      border-right-color: var(--fill-color);\n",
              "    }\n",
              "    40% {\n",
              "      border-color: transparent;\n",
              "      border-right-color: var(--fill-color);\n",
              "      border-top-color: var(--fill-color);\n",
              "    }\n",
              "    60% {\n",
              "      border-color: transparent;\n",
              "      border-right-color: var(--fill-color);\n",
              "    }\n",
              "    80% {\n",
              "      border-color: transparent;\n",
              "      border-right-color: var(--fill-color);\n",
              "      border-bottom-color: var(--fill-color);\n",
              "    }\n",
              "    90% {\n",
              "      border-color: transparent;\n",
              "      border-bottom-color: var(--fill-color);\n",
              "    }\n",
              "  }\n",
              "</style>\n",
              "\n",
              "  <script>\n",
              "    async function quickchart(key) {\n",
              "      const quickchartButtonEl =\n",
              "        document.querySelector('#' + key + ' button');\n",
              "      quickchartButtonEl.disabled = true;  // To prevent multiple clicks.\n",
              "      quickchartButtonEl.classList.add('colab-df-spinner');\n",
              "      try {\n",
              "        const charts = await google.colab.kernel.invokeFunction(\n",
              "            'suggestCharts', [key], {});\n",
              "      } catch (error) {\n",
              "        console.error('Error during call to suggestCharts:', error);\n",
              "      }\n",
              "      quickchartButtonEl.classList.remove('colab-df-spinner');\n",
              "      quickchartButtonEl.classList.add('colab-df-quickchart-complete');\n",
              "    }\n",
              "    (() => {\n",
              "      let quickchartButtonEl =\n",
              "        document.querySelector('#df-cb9c37f6-c1b5-4b5e-a3f7-a7242c9afe40 button');\n",
              "      quickchartButtonEl.style.display =\n",
              "        google.colab.kernel.accessAllowed ? 'block' : 'none';\n",
              "    })();\n",
              "  </script>\n",
              "</div>\n",
              "\n",
              "    </div>\n",
              "  </div>\n"
            ],
            "text/plain": [
              "        Person ID         Age  Sleep Duration  Quality of Sleep  \\\n",
              "count  382.000000  382.000000      375.000000        382.000000   \n",
              "mean   189.109948   42.314136        7.136800          7.319372   \n",
              "std    108.171287    8.680733        0.798113          1.200434   \n",
              "min      1.000000   27.000000        5.800000          4.000000   \n",
              "25%     96.250000   36.000000        6.400000          6.000000   \n",
              "50%    189.500000   43.000000        7.200000          7.000000   \n",
              "75%    283.750000   50.000000        7.800000          8.000000   \n",
              "max    374.000000   59.000000        8.500000          9.000000   \n",
              "\n",
              "       Physical Activity Level  Stress Level  Heart Rate   Daily Steps  \n",
              "count               377.000000    382.000000  382.000000    382.000000  \n",
              "mean                 59.230769      5.379581   70.157068   6825.916230  \n",
              "std                  20.934734      1.782063    4.128060   1624.414637  \n",
              "min                  30.000000      3.000000   65.000000   3000.000000  \n",
              "25%                  45.000000      4.000000   68.000000   5600.000000  \n",
              "50%                  60.000000      5.000000   70.000000   7000.000000  \n",
              "75%                  75.000000      7.000000   72.000000   8000.000000  \n",
              "max                  90.000000      8.000000   86.000000  10000.000000  "
            ]
          },
          "execution_count": 11,
          "metadata": {},
          "output_type": "execute_result"
        }
      ],
      "source": [
        "# Descrição estatística das variáveis numéricas\n",
        "dataframe.describe()"
      ]
    },
    {
      "cell_type": "code",
      "execution_count": 12,
      "metadata": {
        "colab": {
          "base_uri": "https://localhost:8080/"
        },
        "id": "Eh7LAZ_me7S5",
        "outputId": "507b33d2-5124-474c-b401-838dd698b723"
      },
      "outputs": [
        {
          "data": {
            "text/plain": [
              "Person ID                    int64\n",
              "Gender                      object\n",
              "Age                          int64\n",
              "Occupation                  object\n",
              "Sleep Duration             float64\n",
              "Quality of Sleep             int64\n",
              "Physical Activity Level    float64\n",
              "Stress Level                 int64\n",
              "BMI Category                object\n",
              "Blood Pressure              object\n",
              "Heart Rate                   int64\n",
              "Daily Steps                  int64\n",
              "Sleep Disorder              object\n",
              "dtype: object"
            ]
          },
          "execution_count": 12,
          "metadata": {},
          "output_type": "execute_result"
        }
      ],
      "source": [
        "dataframe.dtypes"
      ]
    },
    {
      "cell_type": "code",
      "execution_count": 13,
      "metadata": {
        "colab": {
          "base_uri": "https://localhost:8080/"
        },
        "id": "Uy1450Tbe7S5",
        "outputId": "708eaad1-8591-4804-f38b-4367ccc646fa"
      },
      "outputs": [
        {
          "name": "stdout",
          "output_type": "stream",
          "text": [
            "Person ID                     int64\n",
            "Gender                     category\n",
            "Age                           int64\n",
            "Occupation                 category\n",
            "Sleep Duration              float64\n",
            "Quality of Sleep              int64\n",
            "Physical Activity Level     float64\n",
            "Stress Level                  int64\n",
            "BMI Category               category\n",
            "Blood Pressure               object\n",
            "Heart Rate                    int64\n",
            "Daily Steps                   int64\n",
            "Sleep Disorder             category\n",
            "dtype: object\n"
          ]
        }
      ],
      "source": [
        "# trocando dados \"object\" para \"category\"\n",
        "dataframe[\"Gender\"] = dataframe[\"Gender\"].astype(\"category\")\n",
        "dataframe[\"Occupation\"] = dataframe[\"Occupation\"].astype(\"category\")\n",
        "dataframe[\"BMI Category\"] = dataframe[\"BMI Category\"].astype(\"category\")\n",
        "dataframe[\"Sleep Disorder\"] = dataframe[\"Sleep Disorder\"].astype(\"category\")\n",
        "\n",
        "print(dataframe.dtypes)"
      ]
    },
    {
      "cell_type": "markdown",
      "metadata": {
        "id": "hvHibn_0e7S5"
      },
      "source": [
        "## Conclusões sobre a definição de tipos\n",
        "\n",
        "Ao revisar os tipos de dados no DataFrame, observamos que os tipos estão bem ajustados para a maioria dos campos, mas há oportunidades para otimizações. Identificadores e métricas quantitativas como \"Person ID\", \"Age\", e \"Quality of Sleep\" estão corretamente como int64. \"Sleep Duration\" está como float64, adequado para valores que necessitam precisão decimal. No entanto, colunas como \"Gender\", \"Occupation\", e \"Blood Pressure\", classificadas como `object`, poderiam ser convertidas para o tipo `categórico`. A conversão para categórico não só economiza memória, especialmente útil para grandes datasets, como também facilita a realização de análises estatísticas que dependem de agrupamento ou comparação de categorias."
      ]
    },
    {
      "cell_type": "markdown",
      "metadata": {
        "id": "Q2V5hbRse7S6"
      },
      "source": [
        "## Tratamento de Valores Ausentes\n",
        "\n",
        "```python\n",
        "# Valores ausentes podem distorcer análises e afetar a performance de modelos preditivos. Aqui, investigamos e tratamos esses valores, assegurando a integridade de nosso conjunto de dados.\n"
      ]
    },
    {
      "cell_type": "code",
      "execution_count": null,
      "metadata": {
        "id": "sqnr-OBXe7S6"
      },
      "outputs": [],
      "source": [
        "predict_dataframe = dataframe.copy(deep=True)\n",
        "\n",
        "predict_dataframe[\"Blood Pressure\"] = predict_dataframe[\"Blood Pressure\"].astype(\"category\")\n",
        "\n",
        "\n",
        "predict_dataframe[\"Gender\"] = predict_dataframe[\"Gender\"].cat.codes\n",
        "predict_dataframe[\"Occupation\"] = predict_dataframe[\"Occupation\"].cat.codes\n",
        "predict_dataframe[\"BMI Category\"] = predict_dataframe[\"BMI Category\"].cat.codes\n",
        "predict_dataframe[\"Sleep Disorder\"] = predict_dataframe[\"Sleep Disorder\"].cat.codes\n",
        "predict_dataframe[\"Blood Pressure\"] = predict_dataframe[\"Blood Pressure\"].cat.codes\n",
        "predict_dataframe.head()"
      ]
    },
    {
      "cell_type": "markdown",
      "metadata": {
        "id": "RJtWBM8RTYtB"
      },
      "source": [
        "```python\n",
        "# Mostrando o número de valores ausentes por coluna\n",
        "print(dataframe.isnull().sum())"
      ]
    },
    {
      "cell_type": "code",
      "execution_count": null,
      "metadata": {
        "id": "zWbUN11ee7S6"
      },
      "outputs": [],
      "source": [
        "print(predict_dataframe.isnull().sum())"
      ]
    },
    {
      "cell_type": "markdown",
      "metadata": {
        "id": "pJ9Oh7QUTYtB"
      },
      "source": [
        "## Imputação de Valores Ausentes usando K-NN\n",
        "\n",
        "```python\n",
        "# Para tratar valores ausentes, utilizamos o método K-Nearest Neighbors (K-NN) que prevê os valores ausentes com base nos vizinhos mais próximos. Este método é particularmente útil para dados que podem ter padrões complexos que modelos mais simples não conseguiriam capturar adequadamente.\n",
        "\n",
        "from fancyimpute import KNN"
      ]
    },
    {
      "cell_type": "code",
      "execution_count": null,
      "metadata": {
        "id": "JBs8WQvge7S6"
      },
      "outputs": [],
      "source": [
        "from fancyimpute import KNN\n",
        "\n",
        "# Aplicando KNN\n",
        "sleep_knn = KNN(k=3).fit_transform(predict_dataframe)"
      ]
    },
    {
      "cell_type": "code",
      "execution_count": null,
      "metadata": {
        "id": "PkK8y4cCe7S7"
      },
      "outputs": [],
      "source": [
        "# Convertendo o resultado para um DataFrame\n",
        "sleep_knn = pd.DataFrame(data=sleep_knn[0:, 0:], columns=[\"Person ID\", \"Gender\", \"Age\", \"Occupation\", \"Sleep Duration\", 'Quality of Sleep', \"Physical Activity Level\", \"Stress Level\", \"BMI Category\", \"Blood Pressure\", \"Heart Rate\", \"Daily Steps\", \"Sleep Disorder\"])"
      ]
    },
    {
      "cell_type": "code",
      "execution_count": null,
      "metadata": {
        "id": "F5PfQpDEe7S7"
      },
      "outputs": [],
      "source": [
        "# printando as primeiras 10 linhas do dataset\n",
        "sleep_knn.head(10)"
      ]
    },
    {
      "cell_type": "code",
      "execution_count": null,
      "metadata": {
        "id": "_mNcnF3ve7S7"
      },
      "outputs": [],
      "source": [
        "# Verificando se ainda existem valores nulos\n",
        "print(sleep_knn.isnull().sum())"
      ]
    },
    {
      "cell_type": "markdown",
      "metadata": {
        "id": "0L5XLuCZTYtC"
      },
      "source": [
        "#### Atualização de Tipos de Dados\n",
        "Após a imputação, garantimos que os tipos de dados estejam corretos, especialmente para variáveis categóricas, onde utilizamos codificação numérica para facilitar análises futuras."
      ]
    },
    {
      "cell_type": "code",
      "execution_count": null,
      "metadata": {
        "id": "QZcPs70de7S7"
      },
      "outputs": [],
      "source": [
        "# Atualizando o DataFrame original com os dados imputados\n",
        "dataframe[\"Sleep Duration\"] = sleep_knn[\"Sleep Duration\"]\n",
        "dataframe[\"Physical Activity Level\"] = sleep_knn[\"Physical Activity Level\"]\n",
        "\n",
        "dataframe.head()"
      ]
    },
    {
      "cell_type": "markdown",
      "metadata": {
        "id": "ybk3X5lFe7S7"
      },
      "source": [
        "### Lidando com Entries/Rows Duplicadas\n",
        "\n",
        "Identificamos e removemos entradas duplicadas para garantir a integridade dos dados. Isso é crucial para evitar distorções nas análises."
      ]
    },
    {
      "cell_type": "code",
      "execution_count": null,
      "metadata": {
        "id": "OLAFDIMge7S8"
      },
      "outputs": [],
      "source": [
        "len(dataframe)"
      ]
    },
    {
      "cell_type": "markdown",
      "metadata": {
        "id": "cWiWGFH_TYtC"
      },
      "source": [
        "### Verificando as rows duplicadas"
      ]
    },
    {
      "cell_type": "code",
      "execution_count": null,
      "metadata": {
        "id": "lYlRVyLxe7S8"
      },
      "outputs": [],
      "source": [
        "dataframe[dataframe.duplicated()].sort_values(\"Person ID\").head(10)"
      ]
    },
    {
      "cell_type": "code",
      "execution_count": null,
      "metadata": {
        "id": "FnUcn4F-e7S8"
      },
      "outputs": [],
      "source": [
        "# quantidade de linhas duplicadas\n",
        "len(dataframe[dataframe.duplicated()])"
      ]
    },
    {
      "cell_type": "code",
      "execution_count": null,
      "metadata": {
        "id": "3VFzRkzwe7S8"
      },
      "outputs": [],
      "source": [
        "# removendo linhas duplicadas\n",
        "dataframe.drop_duplicates(keep='first', inplace=True)"
      ]
    },
    {
      "cell_type": "code",
      "execution_count": null,
      "metadata": {
        "id": "tNdK4E6Me7S8"
      },
      "outputs": [],
      "source": [
        "len(dataframe[dataframe.duplicated()])"
      ]
    },
    {
      "cell_type": "code",
      "execution_count": null,
      "metadata": {
        "id": "XFqgd66ke7S8"
      },
      "outputs": [],
      "source": [
        "len(dataframe)"
      ]
    },
    {
      "cell_type": "markdown",
      "metadata": {
        "id": "pTQIBroSe7S8"
      },
      "source": [
        "## Normalização dos Dados\n",
        "\n",
        "A normalização é crucial para garantir que variáveis com escalas diferentes não distorçam os resultados analíticos, especialmente em técnicas de análise que são sensíveis a variações de escala, como modelagem preditiva e algoritmos de machine learning."
      ]
    },
    {
      "cell_type": "markdown",
      "metadata": {
        "id": "4lYaJuo8TYtD"
      },
      "source": [
        "```python\n",
        "# Criação de um novo DataFrame para armazenar os dados normalizados\n",
        "normalized_dataset = dataframe.copy(deep=True)"
      ]
    },
    {
      "cell_type": "code",
      "execution_count": null,
      "metadata": {
        "id": "OaxRJxT8e7S8"
      },
      "outputs": [],
      "source": [
        "normalized_dataset = dataframe.copy(deep=True)\n",
        "normalized_dataset.head(10)"
      ]
    },
    {
      "cell_type": "markdown",
      "metadata": {
        "id": "SR2e7CaJTYtD"
      },
      "source": [
        "### Métodos de Normalização\n",
        "\n",
        "Utilizamos a normalização Z-Score para as variáveis contínuas, que reescala os dados para terem média zero e desvio padrão de um. Isso é feito subtraindo a média e dividindo pelo desvio padrão de cada variável."
      ]
    },
    {
      "cell_type": "code",
      "execution_count": null,
      "metadata": {
        "id": "ZeIBYZbZe7S8"
      },
      "outputs": [],
      "source": [
        "normalized_dataset[\"Age Norm\"] = ((normalized_dataset[\"Age\"] - normalized_dataset[\"Age\"].mean()) / normalized_dataset[\"Age\"].std())\n",
        "normalized_dataset[\"Sleep Norm\"] = ((normalized_dataset[\"Sleep Duration\"] - normalized_dataset[\"Sleep Duration\"].mean()) / normalized_dataset[\"Sleep Duration\"].std())\n",
        "normalized_dataset[\"Quality Norm\"] = ((normalized_dataset[\"Quality of Sleep\"] - normalized_dataset[\"Quality of Sleep\"].mean()) / normalized_dataset[\"Quality of Sleep\"].std())\n",
        "normalized_dataset[\"Physical Norm\"] = ((normalized_dataset[\"Physical Activity Level\"] - normalized_dataset[\"Physical Activity Level\"].mean()) / normalized_dataset[\"Physical Activity Level\"].std())\n",
        "normalized_dataset[\"Stress Norm\"] = ((normalized_dataset[\"Stress Level\"] - normalized_dataset[\"Stress Level\"].mean()) / normalized_dataset[\"Stress Level\"].std())\n",
        "normalized_dataset[\"Heart Norm\"] = ((normalized_dataset[\"Heart Rate\"] - normalized_dataset[\"Heart Rate\"].mean()) / normalized_dataset[\"Heart Rate\"].std())\n",
        "normalized_dataset[\"Steps Norm\"] = ((normalized_dataset[\"Daily Steps\"] - normalized_dataset[\"Daily Steps\"].mean()) / normalized_dataset[\"Daily Steps\"].std())\n",
        "normalized_dataset.head(10)"
      ]
    },
    {
      "cell_type": "code",
      "execution_count": 3,
      "metadata": {
        "colab": {
          "base_uri": "https://localhost:8080/",
          "height": 146
        },
        "id": "J3v8dqNKe7S9",
        "outputId": "03a3739f-f588-4d98-d70c-2e5c40abe945"
      },
      "outputs": [
        {
          "ename": "NameError",
          "evalue": "name 'normalized_dataset' is not defined",
          "output_type": "error",
          "traceback": [
            "\u001b[0;31m---------------------------------------------------------------------------\u001b[0m",
            "\u001b[0;31mNameError\u001b[0m                                 Traceback (most recent call last)",
            "\u001b[0;32m<ipython-input-3-f574e07b897f>\u001b[0m in \u001b[0;36m<cell line: 1>\u001b[0;34m()\u001b[0m\n\u001b[0;32m----> 1\u001b[0;31m \u001b[0mnormalized_dataset\u001b[0m\u001b[0;34m.\u001b[0m\u001b[0mdescribe\u001b[0m\u001b[0;34m(\u001b[0m\u001b[0;34m)\u001b[0m\u001b[0;34m\u001b[0m\u001b[0;34m\u001b[0m\u001b[0m\n\u001b[0m",
            "\u001b[0;31mNameError\u001b[0m: name 'normalized_dataset' is not defined"
          ]
        }
      ],
      "source": [
        "normalized_dataset.describe()"
      ]
    },
    {
      "cell_type": "markdown",
      "metadata": {
        "id": "O5jNspQQTYtE"
      },
      "source": [
        "\n",
        "### Explicação Adicional\n",
        "\n",
        "- **Por que normalizar?** Algoritmos como K-Means clustering, PCA, regressão linear, e redes neurais são sensíveis à escala das variáveis de entrada. Variáveis com grandes variações podem influenciar desproporcionalmente o modelo, levando a resultados enviesados ou subótimos.\n",
        "- **Impacto da Normalização**: Além de facilitar a modelagem, a normalização também ajuda na visualização dos dados, tornando mais fácil identificar padrões e outliers em escalas comparáveis.\n",
        "\n",
        "---\n"
      ]
    },
    {
      "cell_type": "markdown",
      "metadata": {
        "id": "LjDS6PRLe7S9"
      },
      "source": [
        "# Discretização de Dados\n",
        "\n",
        "Discretizar uma variável contínua transforma-a em várias categorias com intervalos definidos. Isso é útil em análises que requerem agrupamento de dados ou quando os algoritmos de machine learning se beneficiam de variáveis categóricas.\n",
        "\n",
        "```python\n",
        "# Cópia do dataset para manter o original intacto\n",
        "discretized_dataset = normalized_dataset.copy(deep=True)\n",
        "\n"
      ]
    },
    {
      "cell_type": "code",
      "execution_count": null,
      "metadata": {
        "id": "dNrFjxhMe7S9"
      },
      "outputs": [],
      "source": [
        "discretized_dataset = normalized_dataset.copy(deep=True)\n",
        "discretized_dataset.head(10)"
      ]
    },
    {
      "cell_type": "markdown",
      "metadata": {
        "id": "p6yPY-hJTYtE"
      },
      "source": [
        "```python\n",
        "# Discretização da variável 'Sleep Duration' em 10 intervalos"
      ]
    },
    {
      "cell_type": "code",
      "execution_count": null,
      "metadata": {
        "id": "b5npQm3xe7S9"
      },
      "outputs": [],
      "source": [
        "discretized_dataset[\"Sleep Discretized\"] = pd.cut(discretized_dataset[\"Sleep Duration\"], 10)\n",
        "discretized_dataset.head(10)"
      ]
    },
    {
      "cell_type": "code",
      "execution_count": null,
      "metadata": {
        "id": "md1lh_GEe7S9"
      },
      "outputs": [],
      "source": [
        "discretized_dataset[\"Sleep Discretized\"].value_counts()"
      ]
    },
    {
      "cell_type": "markdown",
      "metadata": {
        "id": "_udD29tXTYtO"
      },
      "source": [
        "\n",
        "### Explicação Adicional\n",
        "\n",
        "- **Por que discretizar?** A discretização ajuda na interpretação dos modelos e na análise, transformando dados contínuos em um formato que imita a maneira como os humanos categorizam naturalmente informações (como curto, médio e longo).\n",
        "- **Impactos da discretização**: Além de facilitar a interpretação, a discretização pode melhorar a performance de certos algoritmos de classificação, ao reduzir a sensibilidade a pequenas flutuações nos dados contínuos, focando em tendências maiores que são mais robustas a ruídos.\n",
        "\n",
        "---"
      ]
    },
    {
      "cell_type": "markdown",
      "metadata": {
        "id": "TYdSrxmTe7S9"
      },
      "source": [
        "## Detecção de Outliers\n",
        "\n",
        "A presença de outliers pode influenciar negativamente nossas análises e modelos preditivos. Utilizamos box plots para identificar visualmente outliers nas principais variáveis do dataset."
      ]
    },
    {
      "cell_type": "markdown",
      "metadata": {
        "id": "KLh6EKcpTYtO"
      },
      "source": [
        "### Visualização de Outliers com Box Plots\n",
        "\n",
        "Box plots são extremamente úteis para detectar outliers, pois mostram a distribuição dos dados através de quartis e destacam pontos que caem fora do intervalo interquartil estendido.\n"
      ]
    },
    {
      "cell_type": "code",
      "execution_count": null,
      "metadata": {
        "id": "FtiuKqKJe7S9"
      },
      "outputs": [],
      "source": [
        "discretized_dataset[\"Age\"].plot.box()"
      ]
    },
    {
      "cell_type": "code",
      "execution_count": null,
      "metadata": {
        "id": "Msm6rToye7S9"
      },
      "outputs": [],
      "source": [
        "discretized_dataset[\"Sleep Duration\"].plot.box()"
      ]
    },
    {
      "cell_type": "code",
      "execution_count": null,
      "metadata": {
        "id": "3hOuV7-de7S-"
      },
      "outputs": [],
      "source": [
        "discretized_dataset[\"Quality of Sleep\"].plot.box()"
      ]
    },
    {
      "cell_type": "code",
      "execution_count": null,
      "metadata": {
        "id": "5ltRm_9Ue7S-"
      },
      "outputs": [],
      "source": [
        "discretized_dataset[\"Physical Activity Level\"].plot.box()"
      ]
    },
    {
      "cell_type": "code",
      "execution_count": null,
      "metadata": {
        "id": "5oI7U_C8e7S-"
      },
      "outputs": [],
      "source": [
        "discretized_dataset[\"Stress Level\"].plot.box()"
      ]
    },
    {
      "cell_type": "code",
      "execution_count": null,
      "metadata": {
        "id": "_i7kBTO0e7S-"
      },
      "outputs": [],
      "source": [
        "discretized_dataset[\"Heart Rate\"].plot.box()"
      ]
    },
    {
      "cell_type": "code",
      "execution_count": null,
      "metadata": {
        "id": "R7kM2gsBe7S_"
      },
      "outputs": [],
      "source": [
        "discretized_dataset[\"Daily Steps\"].plot.box()"
      ]
    },
    {
      "cell_type": "markdown",
      "metadata": {
        "id": "Mqnr2figgUAH"
      },
      "source": [
        "## Remoção e Codificação de Outliers\n",
        "\n",
        "Após a detecção de outliers, procedemos com a remoção ou tratamento destes para evitar distorções nas análises subsequentes. Em algumas situações, em vez de remover, optamos por codificar os outliers para preservar informações que podem ser úteis.\n",
        "\n",
        "### Codificação e Tratamento de Outliers\n",
        "\n",
        "Optamos por codificar variáveis categóricas que contêm outliers, transformando-as de strings para códigos numéricos. Isso simplifica os processos de análise que seguem e ajuda na integração com algoritmos de machine learning que requerem entrada numérica.\n",
        "\n",
        "```python\n",
        "# Criando uma cópia do dataset para tratamento de outliers\n",
        "outlier_dataframe = discretized_dataset.copy(deep=True)"
      ]
    },
    {
      "cell_type": "code",
      "execution_count": null,
      "metadata": {
        "id": "1gHp1lJfmlRN"
      },
      "outputs": [],
      "source": [
        "discretized_dataset"
      ]
    },
    {
      "cell_type": "code",
      "execution_count": null,
      "metadata": {
        "id": "tXtwJMt1nlOo"
      },
      "outputs": [],
      "source": [
        "outlier_dataframe = discretized_dataset.copy(deep=True)"
      ]
    },
    {
      "cell_type": "code",
      "execution_count": null,
      "metadata": {
        "id": "oI3dmfIonraH"
      },
      "outputs": [],
      "source": [
        "outlier_dataframe"
      ]
    },
    {
      "cell_type": "markdown",
      "metadata": {
        "id": "d-0-RXe1TYtQ"
      },
      "source": [
        "```python\n",
        "# Convertendo variáveis categóricas para códigos numéricos"
      ]
    },
    {
      "cell_type": "code",
      "execution_count": null,
      "metadata": {
        "id": "9Hw0RkO-nuP4"
      },
      "outputs": [],
      "source": [
        "outlier_dataframe[\"Blood Pressure\"] = outlier_dataframe[\"Blood Pressure\"].astype(\"category\")\n",
        "\n",
        "\n",
        "outlier_dataframe[\"Gender\"] = outlier_dataframe[\"Gender\"].cat.codes\n",
        "outlier_dataframe[\"Occupation\"] = outlier_dataframe[\"Occupation\"].cat.codes\n",
        "outlier_dataframe[\"BMI Category\"] = outlier_dataframe[\"BMI Category\"].cat.codes\n",
        "outlier_dataframe[\"Sleep Disorder\"] = outlier_dataframe[\"Sleep Disorder\"].cat.codes\n",
        "outlier_dataframe[\"Blood Pressure\"] = outlier_dataframe[\"Blood Pressure\"].cat.codes\n",
        "outlier_dataframe.head()"
      ]
    },
    {
      "cell_type": "code",
      "execution_count": null,
      "metadata": {
        "id": "XyA5lU_9e7TA"
      },
      "outputs": [],
      "source": [
        "corr_matrix = outlier_dataframe[['Sleep Duration', 'Quality of Sleep', 'Physical Activity Level', 'Heart Rate', 'BMI Category', 'Blood Pressure', 'Stress Level', 'Daily Steps']].corr()\n",
        "\n",
        "\n",
        "# Exibindo a matriz de correlação\n",
        "print(corr_matrix)\n"
      ]
    },
    {
      "cell_type": "markdown",
      "metadata": {
        "id": "ftb0-cGco6S4"
      },
      "source": [
        "## Análise de Correlação do Dataset, útil para decidir técnica de remoção de outliers\n",
        "\n",
        "\n",
        "#### Resultados da Análise de Correlação\n",
        "A matriz de correlação gerada fornece informações sobre a força e a direção das relações lineares entre pares de variáveis. Aqui estão as principais conclusões:\n",
        "\n",
        "1. **Relação Sono e Estresse**:\n",
        "   - **Duração do Sono e Nível de Estresse**: Correlação negativa forte (-0.811208), indicando que uma maior duração do sono está associada a níveis mais baixos de estresse.\n",
        "   - **Qualidade do Sono e Nível de Estresse**: Correlação negativa forte (-0.898752), sugerindo que uma melhor qualidade do sono está associada a menores níveis de estresse.\n",
        "\n",
        "2. **Atividade Física e Saúde**:\n",
        "   - **Nível de Atividade Física e Passos Diários**: Correlação positiva forte (0.774890), mostrando que um maior nível de atividade física está associado a um maior número de passos diários.\n",
        "   - **Nível de Atividade Física e Nível de Estresse**: Correlação negativa moderada (-0.670026), indicando que um maior nível de atividade física está associado a níveis mais baixos de estresse.\n",
        "\n",
        "3. **Qualidade do Sono e Frequência Cardíaca**:\n",
        "   - Correlação negativa moderada (-0.659865), sugerindo que uma melhor qualidade do sono está associada a uma menor frequência cardíaca.\n",
        "\n",
        "4. **Índice de Massa Corporal (BMI) e Frequência Cardíaca**:\n",
        "   - Correlação positiva moderada (0.295558), sugerindo que um maior índice de massa corporal está associado a uma frequência cardíaca mais alta.\n",
        "\n",
        "#### Conclusões\n",
        "\n",
        "- **Sono e Estresse**: A duração e a qualidade do sono têm uma forte correlação com os níveis de estresse. Indivíduos que dormem mais e têm uma melhor qualidade de sono tendem a ter níveis de estresse mais baixos.\n",
        "- **Atividade Física**: O nível de atividade física, medido pelos passos diários, está fortemente correlacionado com a frequência cardíaca e o nível de estresse, sugerindo que a atividade física pode ajudar a reduzir o estresse e controlar a frequência cardíaca.\n",
        "- **Saúde Geral**: Uma melhor qualidade do sono está associada a uma menor frequência cardíaca, indicando um melhor estado de saúde geral. Além disso, um maior índice de massa corporal está associado a uma frequência cardíaca mais alta, destacando a importância de manter um peso saudável.\n",
        "\n",
        "#### Próximos Passos\n",
        "\n",
        "- **Análise Multivariada**: Com base nas correlações encontradas, métodos multivariados como Elliptic Envelope ou Isolation Forests podem ser usados para detectar outliers, considerando as interações entre variáveis.\n",
        "\n",
        "---\n",
        "\n",
        "# Porém, não será necessário tratar tais valores\n",
        "\n",
        "#### Podemos utilizar nosso conhecimento de domínio para afirmar que tais outliers de frequência cardíaca são normais para um humano em repouso, visto que estão em um intervalo aceito de BPMs, além disso, não variam de forma preocupante como pode ser observado nos plots acima, dessa forma, aceitamos que não seria necessário utlizar métodos para outliers que estão de certa forma \"corretos\".\n"
      ]
    },
    {
      "cell_type": "code",
      "execution_count": 4,
      "metadata": {
        "colab": {
          "base_uri": "https://localhost:8080/",
          "height": 146
        },
        "id": "CsyZPvF8mvH-",
        "outputId": "5b30cec1-563c-40c5-e0d2-01c4dff709ac"
      },
      "outputs": [
        {
          "ename": "NameError",
          "evalue": "name 'discretized_dataset' is not defined",
          "output_type": "error",
          "traceback": [
            "\u001b[0;31m---------------------------------------------------------------------------\u001b[0m",
            "\u001b[0;31mNameError\u001b[0m                                 Traceback (most recent call last)",
            "\u001b[0;32m<ipython-input-4-fde8b088017e>\u001b[0m in \u001b[0;36m<cell line: 1>\u001b[0;34m()\u001b[0m\n\u001b[0;32m----> 1\u001b[0;31m \u001b[0mdiscretized_dataset\u001b[0m\u001b[0;34m[\u001b[0m\u001b[0;34m\"Sleep Duration\"\u001b[0m\u001b[0;34m]\u001b[0m\u001b[0;34m.\u001b[0m\u001b[0mplot\u001b[0m\u001b[0;34m.\u001b[0m\u001b[0mhist\u001b[0m\u001b[0;34m(\u001b[0m\u001b[0;34m)\u001b[0m\u001b[0;34m\u001b[0m\u001b[0;34m\u001b[0m\u001b[0m\n\u001b[0m",
            "\u001b[0;31mNameError\u001b[0m: name 'discretized_dataset' is not defined"
          ]
        }
      ],
      "source": [
        "discretized_dataset[\"Sleep Duration\"].plot.hist()"
      ]
    },
    {
      "cell_type": "markdown",
      "metadata": {
        "id": "FTFdfJTeTYtR"
      },
      "source": [
        "# Análise descritiva"
      ]
    },
    {
      "cell_type": "code",
      "execution_count": null,
      "metadata": {
        "id": "JNPPLASVTYtR"
      },
      "outputs": [],
      "source": [
        "dataframe.head(10)"
      ]
    },
    {
      "cell_type": "code",
      "execution_count": null,
      "metadata": {
        "id": "K3u-QsSNTYtR"
      },
      "outputs": [],
      "source": [
        "plt.figure(figsize=(10, 6))\n",
        "plt.scatter(dataframe['Sleep Duration'], dataframe['Quality of Sleep'], alpha=0.5)\n",
        "plt.title('Relationship Between Sleep Duration and Quality of Sleep')\n",
        "plt.xlabel('Sleep Duration')\n",
        "plt.ylabel('Quality of Sleep')\n",
        "plt.grid(True)\n",
        "plt.show()"
      ]
    },
    {
      "cell_type": "code",
      "execution_count": null,
      "metadata": {
        "id": "Puqsv1h1TYtR"
      },
      "outputs": [],
      "source": [
        "import numpy as np"
      ]
    },
    {
      "cell_type": "code",
      "execution_count": null,
      "metadata": {
        "id": "Kvy2614KTYtR"
      },
      "outputs": [],
      "source": [
        "# Assuming your DataFrame is named df\n",
        "# First plot the scatter plot\n",
        "plt.figure(figsize=(10, 6))\n",
        "plt.scatter(dataframe['Sleep Duration'], dataframe['Quality of Sleep'], alpha=0.5)\n",
        "\n",
        "# Calculate the coefficients for the line of best fit\n",
        "slope, intercept = np.polyfit(dataframe['Sleep Duration'], dataframe['Quality of Sleep'], 1)\n",
        "\n",
        "# Create x values for the line of best fit from the scatter data\n",
        "x = np.array([dataframe['Sleep Duration'].min(), dataframe['Sleep Duration'].max()])\n",
        "\n",
        "# Calculate the corresponding y values from the slope and intercept\n",
        "y = slope * x + intercept\n",
        "\n",
        "# Plot the line of best fit\n",
        "plt.plot(x, y, 'r', label='Line of Best Fit')\n",
        "\n",
        "# Add labels, title, grid, and legend\n",
        "plt.xlabel('Sleep Duration')\n",
        "plt.ylabel('Quality of Sleep')\n",
        "plt.title('Relationship Between Sleep Duration and Quality of Sleep')\n",
        "plt.grid(True)\n",
        "plt.legend()\n",
        "\n",
        "# Show the plot\n",
        "plt.show()\n"
      ]
    },
    {
      "cell_type": "code",
      "execution_count": null,
      "metadata": {
        "id": "r05e2oEATYtR"
      },
      "outputs": [],
      "source": [
        "# Assuming your DataFrame is named df\n",
        "# Plotting\n",
        "plt.figure(figsize=(12, 8))\n",
        "dataframe.boxplot(column='Daily Steps', by='Occupation', grid=True)\n",
        "plt.title('Daily Steps by Occupation')\n",
        "plt.suptitle('')  # Suppress the default title to clean up the plot a little\n",
        "plt.xlabel('Occupation')\n",
        "plt.ylabel('Daily Steps')\n",
        "plt.xticks(rotation=45)  # Rotate the labels on the x-axis for better readability\n",
        "plt.show()"
      ]
    },
    {
      "cell_type": "code",
      "execution_count": null,
      "metadata": {
        "id": "V332UCtITYtS"
      },
      "outputs": [],
      "source": [
        "dataframe['Daily Steps'].groupby(dataframe['Occupation']).median().plot.bar()"
      ]
    },
    {
      "cell_type": "code",
      "execution_count": null,
      "metadata": {
        "id": "-AcVS7bpTYtS"
      },
      "outputs": [],
      "source": [
        "import seaborn as sns\n",
        "import matplotlib.pyplot as plt\n",
        "\n",
        "# Average Stress Level by Occupation\n",
        "sns.barplot(x='Occupation', y='Stress Level', data=dataframe)\n",
        "plt.xticks(rotation=45)\n",
        "plt.title('Average Stress Level by Occupation')\n",
        "plt.show()\n"
      ]
    },
    {
      "cell_type": "code",
      "execution_count": null,
      "metadata": {
        "id": "P_iTqUPTTYtS"
      },
      "outputs": [],
      "source": [
        "# Count of Sleep Disorders by BMI Category\n",
        "pd.crosstab(dataframe['BMI Category'], dataframe['Sleep Disorder']).plot(kind='bar', stacked=True)\n",
        "plt.title('Sleep Disorders by BMI Category')\n",
        "plt.show()\n",
        "\n"
      ]
    },
    {
      "cell_type": "code",
      "execution_count": null,
      "metadata": {
        "id": "iCoCavZCTYtS"
      },
      "outputs": [],
      "source": [
        "dataframe['BMI Category'].value_counts()"
      ]
    },
    {
      "cell_type": "code",
      "execution_count": null,
      "metadata": {
        "id": "QUKJKX5XTYtS"
      },
      "outputs": [],
      "source": [
        "import seaborn as sns\n",
        "import matplotlib.pyplot as plt\n",
        "\n",
        "# Scatter plot for Physical Activity Level vs. Heart Rate\n",
        "sns.scatterplot(x='Physical Activity Level', y='Heart Rate', data=dataframe, hue='BMI Category')\n",
        "plt.title('Physical Activity vs. Heart Rate by BMI Category')\n",
        "plt.show()\n",
        "\n",
        "# Scatter plot for Physical Activity Level vs. Blood Pressure\n",
        "sns.scatterplot(x='Physical Activity Level', y='Blood Pressure', data=dataframe)\n",
        "plt.title('Physical Activity vs. Blood Pressure')\n",
        "plt.show()\n"
      ]
    },
    {
      "cell_type": "code",
      "execution_count": null,
      "metadata": {
        "id": "MBCrJ86-TYtS"
      },
      "outputs": [],
      "source": [
        "import seaborn as sns\n",
        "import matplotlib.pyplot as plt\n",
        "\n",
        "# Gender vs. Stress Level\n",
        "sns.boxplot(x='Gender', y='Stress Level', data=dataframe)\n",
        "plt.title('Nível de estresse por gênero')\n",
        "plt.show()\n",
        "\n",
        "# Gender vs. Physical Activity Level\n",
        "sns.barplot(x='Gender', y='Physical Activity Level', data=dataframe)\n",
        "plt.title('Nível de estresse por gênero')\n",
        "plt.show()\n"
      ]
    },
    {
      "cell_type": "code",
      "execution_count": null,
      "metadata": {
        "id": "fbegghyHTYtT"
      },
      "outputs": [],
      "source": [
        "# Assuming your DataFrame is named df\n",
        "# First plot the scatter plot\n",
        "plt.figure(figsize=(10, 6))\n",
        "plt.scatter(dataframe['Quality of Sleep'], dataframe['Stress Level'], alpha=0.5)\n",
        "\n",
        "# Calculate the coefficients for the line of best fit\n",
        "slope, intercept = np.polyfit(dataframe['Quality of Sleep'], dataframe['Stress Level'], 1)\n",
        "\n",
        "# Create x values for the line of best fit from the scatter data\n",
        "x = np.array([ dataframe['Stress Level'].min(), dataframe['Stress Level'].max()])\n",
        "\n",
        "# Calculate the corresponding y values from the slope and intercept\n",
        "y = slope * x + intercept\n",
        "\n",
        "# Plot the line of best fit\n",
        "plt.plot(x, y, 'r', label='Line of Best Fit')\n",
        "\n",
        "# Add labels, title, grid, and legend\n",
        "plt.xlabel('Quality of Sleep')\n",
        "plt.ylabel('Stress Level')\n",
        "plt.title('Relationship Between Quality of Sleep and Stress Level')\n",
        "plt.grid(True)\n",
        "plt.legend()\n",
        "\n",
        "# Show the plot\n",
        "plt.show()\n"
      ]
    },
    {
      "cell_type": "markdown",
      "metadata": {
        "id": "nC14r0U6TYtT"
      },
      "source": [
        "# Teste de hipótese\n",
        "\n",
        "### Hipótese nula (H0): Não há relação monotônica entre o nível de atividade física e a qualidade do sono.\n",
        "\n",
        "### Hipótese alternativa (H1): Existe uma relação monotônica (seja crescente ou decrescente) entre o nível de atividade física e a qualidade do sono.\n"
      ]
    },
    {
      "cell_type": "code",
      "execution_count": null,
      "metadata": {
        "id": "OChqOzRZTYtT"
      },
      "outputs": [],
      "source": [
        "plt.figure(figsize=(10, 5))\n",
        "plt.subplot(1, 2, 1)\n",
        "plt.hist(dataframe['Quality of Sleep'], bins=10, color='blue', edgecolor='black')\n",
        "plt.title('Histogram of Quality of Sleep')"
      ]
    },
    {
      "cell_type": "code",
      "execution_count": null,
      "metadata": {
        "id": "o6nMWUjqTYtT"
      },
      "outputs": [],
      "source": [
        "from scipy.stats import spearmanr, mannwhitneyu"
      ]
    },
    {
      "cell_type": "code",
      "execution_count": null,
      "metadata": {
        "id": "7WI0HIIaTYtT"
      },
      "outputs": [],
      "source": [
        "corr, p_value = spearmanr(dataframe['Physical Activity Level'], dataframe['Quality of Sleep'])\n",
        "print(\"Spearman's Correlation Coefficient:\", corr)\n",
        "\n",
        "print(\"P-value:\", p_value)"
      ]
    },
    {
      "cell_type": "markdown",
      "metadata": {
        "id": "DTJ03vaATYtT"
      },
      "source": [
        "### 2o teste de hipótese\n",
        "\n",
        "Hipótese nula(H0): Não tem diferença no nível de estresse entre doutores e engenheiros de software.\n",
        "\n",
        "Hipótese alternativa(H1): Tem diferença no nível de estresse entre doutores e engenheiros."
      ]
    },
    {
      "cell_type": "code",
      "execution_count": null,
      "metadata": {
        "id": "k-XnI8SsTYtT"
      },
      "outputs": [],
      "source": [
        "dataframe.head(10)"
      ]
    },
    {
      "cell_type": "code",
      "execution_count": null,
      "metadata": {
        "id": "XDuy9pdsTYtT"
      },
      "outputs": [],
      "source": [
        "dataframe[dataframe['Occupation'] == 'Doctor']['Quality of Sleep'].plot.hist()"
      ]
    },
    {
      "cell_type": "code",
      "execution_count": null,
      "metadata": {
        "id": "VTxskHthTYtU"
      },
      "outputs": [],
      "source": [
        "stats.mannwhitneyu(dataframe[dataframe['Occupation'] == 'Doctor']['Quality of Sleep'], dataframe[dataframe['Occupation'] == 'Software Engineer']['Quality of Sleep'])"
      ]
    }
  ],
  "metadata": {
    "colab": {
      "include_colab_link": true,
      "provenance": []
    },
    "kernelspec": {
      "display_name": "Python 3",
      "language": "python",
      "name": "python3"
    },
    "language_info": {
      "codemirror_mode": {
        "name": "ipython",
        "version": 3
      },
      "file_extension": ".py",
      "mimetype": "text/x-python",
      "name": "python",
      "nbconvert_exporter": "python",
      "pygments_lexer": "ipython3",
      "version": "3.11.6"
    }
  },
  "nbformat": 4,
  "nbformat_minor": 0
}
